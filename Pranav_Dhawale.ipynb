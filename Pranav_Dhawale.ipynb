{
  "nbformat": 4,
  "nbformat_minor": 0,
  "metadata": {
    "colab": {
      "name": "Pranav_Dhawale",
      "provenance": [],
      "collapsed_sections": [],
      "authorship_tag": "ABX9TyPGrPY44E98B4QbY8ZoRGxn",
      "include_colab_link": true
    },
    "kernelspec": {
      "name": "python3",
      "display_name": "Python 3"
    },
    "language_info": {
      "name": "python"
    }
  },
  "cells": [
    {
      "cell_type": "markdown",
      "metadata": {
        "id": "view-in-github",
        "colab_type": "text"
      },
      "source": [
        "<a href=\"https://colab.research.google.com/github/pranavdhawale/google-colab-LGM/blob/master/Pranav_Dhawale.ipynb\" target=\"_parent\"><img src=\"https://colab.research.google.com/assets/colab-badge.svg\" alt=\"Open In Colab\"/></a>"
      ]
    },
    {
      "cell_type": "markdown",
      "source": [
        "# **Pranav Dhawale's LGM Colaboratory Notebook (Team 113)**\n",
        "---\n",
        "\n",
        "My name is Pranav Dhawale, I am pursuing *Diploma in Computer Engineering* at **Government Polytechnic, Mumbai**.<br>\n",
        "💼 Intern at [LetsGrowMore](https://letsgrowmore.in/)<br>\n",
        "📚 Learning Data Science using Python<br><br>\n",
        "\n",
        "- LinkedIn Profile Link - https://www.linkedin.com/in/pranav-dhawale-324452212/\n",
        "- Github Account Link - https://github.com/pranavdhawale<br>\n",
        "- Github Repo Link - https://github.com/pranavdhawale/google-colab-LGM"
      ],
      "metadata": {
        "id": "hBwSxwN1brro"
      }
    },
    {
      "cell_type": "markdown",
      "source": [
        "# **ASSIGNMENT 1 - 22/08/2022**\n",
        "\n",
        "**Python Introduction**<br>\n",
        "Python is a general purpose,dynamic,high level,and interpreted programming language. It supports Object Oriented programming approach to develop applications. It is simple and easy to learn and provides lots of high-level data structures. Python is easy to learn yet powerful and versatile scripting language, which makes it attractive for Application Development. Python's syntax and dynamic typing with Its Interpreted nature make it an ideal language for scripting and rapid application development. Python supports multiple programming pattern,including object-oriented, imperative, and functional or procedural programming styles.\n",
        "<br>\n",
        "\n",
        "**Python Feature**<br>\n",
        "- Free and Open Source\n",
        "- Easy to Code\n",
        "- Easy to Read\n",
        "- Object Oriented Programming (OOP)\n",
        "- GUI Programming Support\n",
        "- High Level Langugage\n",
        "- Extensible Feature\n",
        "- Easy to Debug\n",
        "- Python is a Portable language\n",
        "- Integrated Language\n",
        "- Large Standard Library\n",
        "- Dynamically Typed\n",
        "- Frontend & Backend Development\n",
        "- Allocating Memory Dynamically\n",
        "<br>\n",
        "\n",
        "**Python Applications**<br>\n",
        "- Data Science and Data Visualization\n",
        "- Game Development\n",
        "- Web Development\n",
        "- Machine Learning and Artificial Intelligence\n",
        "- Desktop GUI\n",
        "- CAD Applications\n",
        "- E-Commerce Applications\n",
        "<br>\n",
        "\n",
        "**Python UseCases**<br>\n",
        "- AI/ML\n",
        "- Software Development\n",
        "- Web Scraping\n",
        "- Education Programs\n",
        "<br>\n",
        "\n",
        "**Python IDEs**<br>\n",
        "- IDLE\n",
        "- PyCharm\n",
        "- Sublime Text 3\n",
        "- Atom\n",
        "- VS(Visual Studio) Code\n"
      ],
      "metadata": {
        "id": "020cgzcFIj85"
      }
    },
    {
      "cell_type": "code",
      "source": [
        "# Print Hello World!\n",
        "\n",
        "print(\"Hello World!\")"
      ],
      "metadata": {
        "id": "pmDe9aEx1nDC"
      },
      "execution_count": null,
      "outputs": []
    },
    {
      "cell_type": "code",
      "source": [
        "# Print name 10 times\n",
        "\n",
        "for i in range(10):\n",
        "  print(\"Pranav Dhawale\")"
      ],
      "metadata": {
        "id": "bR5oBi6d2R5w"
      },
      "execution_count": null,
      "outputs": []
    },
    {
      "cell_type": "code",
      "source": [
        "# HackerRank (Introduction) - https://www.hackerrank.com/challenges/py-hello-world/problem\n",
        "# Say \"Hello, World!\" With Python\n",
        "\n",
        "print(\"Hello, World!\")"
      ],
      "metadata": {
        "id": "qHLfi23l_LAn"
      },
      "execution_count": null,
      "outputs": []
    },
    {
      "cell_type": "code",
      "source": [
        "# HackerRank (Introduction) - https://www.hackerrank.com/challenges/py-if-else/problem\n",
        "# Python If-Else\n",
        "\n",
        "n = int(input())\n",
        "    \n",
        "if n%2!=0:\n",
        "    print(\"Weird\")\n",
        "\n",
        "elif n%2==0:\n",
        "    if n >=2 and n <=5:\n",
        "        print(\"Not Weird\")\n",
        "    elif n >=6 and n <=20:\n",
        "        print(\"Weird\")\n",
        "    elif n > 20:\n",
        "        print(\"Not Weird\")"
      ],
      "metadata": {
        "id": "w0JxoogEB1le"
      },
      "execution_count": null,
      "outputs": []
    },
    {
      "cell_type": "code",
      "source": [
        "# HackerRank (Introduction) - https://www.hackerrank.com/challenges/python-arithmetic-operators/problem\n",
        "# Python Arithmetic Operators\n",
        "\n",
        "if __name__ == '__main__':\n",
        "    a = int(input())\n",
        "    b = int(input())\n",
        "    \n",
        "    print(a+b)\n",
        "    print(a-b)\n",
        "    print(a*b)"
      ],
      "metadata": {
        "id": "BSiOY2B7CCFV"
      },
      "execution_count": null,
      "outputs": []
    },
    {
      "cell_type": "code",
      "source": [
        "# HackerRank (Introduction) - https://www.hackerrank.com/challenges/python-division/problem\n",
        "# Python Division\n",
        "\n",
        "if __name__ == '__main__':\n",
        "    a = int(input())\n",
        "    b = int(input())\n",
        "    \n",
        "    print(a//b)\n",
        "    print(a/b)"
      ],
      "metadata": {
        "id": "qFg3EMaWDC7m"
      },
      "execution_count": null,
      "outputs": []
    },
    {
      "cell_type": "code",
      "source": [
        "# HackerRank (Introduction) - https://www.hackerrank.com/challenges/python-loops/problem\n",
        "# Python Loops\n",
        "\n",
        "if __name__ == '__main__':\n",
        "    n = int(input())\n",
        "    for i in range(n):\n",
        "        print(i*i)"
      ],
      "metadata": {
        "id": "eFxNbAWjCryz"
      },
      "execution_count": null,
      "outputs": []
    },
    {
      "cell_type": "code",
      "source": [
        "# HackerRank (Introduction) - https://www.hackerrank.com/challenges/write-a-function/problem\n",
        "# Determine whether it is a Leap Year or not\n",
        "\n",
        "def is_leap(year):\n",
        "    leap = False\n",
        "    \n",
        "    if year % 4 == 0:\n",
        "        if year % 100 != 0:\n",
        "            leap = True\n",
        "        elif year % 400 == 0:\n",
        "            leap = True\n",
        "    \n",
        "    return leap\n",
        "\n",
        "year = int(input())\n",
        "print(is_leap(year))"
      ],
      "metadata": {
        "id": "WHw56QG0MaDK"
      },
      "execution_count": null,
      "outputs": []
    },
    {
      "cell_type": "code",
      "source": [
        "# HackerRank (Introduction) - https://www.hackerrank.com/challenges/python-print/problem\n",
        "# Print the list of integers from  through  as a string, without spaces\n",
        "\n",
        "if __name__ == '__main__':\n",
        "    n = int(input())\n",
        "    for i in range(1,n+1):\n",
        "        print(i, end=\"\")"
      ],
      "metadata": {
        "id": "qU95vR55ROhP"
      },
      "execution_count": null,
      "outputs": []
    },
    {
      "cell_type": "code",
      "source": [
        "# PrepInsta (Operations on Strings) - https://prepinsta.com/python-program/for-checking-a-character-is-a-vowel-or-consonant/\n",
        "# Python Program for checking a character is a vowel or consonant\n",
        "\n",
        "user_input = input(\"Enter character : \")\n",
        "\n",
        "# Checks whether user_input is vowel or consonant\n",
        "if(user_input == \"a\" or user_input == \"e\" or user_input == \"i\" or user_input == \"o\" or user_input == \"u\" or user_input == \"A\" or user_input == \"E\" or user_input == \"I\" or user_input == \"O\" or user_input == \"U\"):\n",
        "    print(\"It is a vowel\")\n",
        "elif(user_input == )\n",
        "else:\n",
        "    print(\"It is a consonant\")"
      ],
      "metadata": {
        "id": "DAjif5SybImB"
      },
      "execution_count": null,
      "outputs": []
    },
    {
      "cell_type": "code",
      "source": [
        "# PrepInsta (Operations on Strings) - https://prepinsta.com/python-program/to-check-whether-a-character-is-alphabet-or-not/\n",
        "# Python program to check whether a character is an alphabet or not\n",
        "\n",
        "user_input = input(\"Enter Character : \")\n",
        "isAlpha = False\n",
        "\n",
        "# Checks whether user_input is an Alphabet or not\n",
        "if (user_input >= 'A' and user_input <= 'Z' or user_input >= 'a' and user_input <= 'z'):\n",
        "    isAlpha = True\n",
        "    print(isAlpha)\n",
        "else:\n",
        "    print(isAlpha)"
      ],
      "metadata": {
        "id": "2vS4sDqscsbv"
      },
      "execution_count": null,
      "outputs": []
    },
    {
      "cell_type": "code",
      "source": [
        "# PrepInsta (Operations on Strings) - https://prepinsta.com/python-program/calculating-the-length-of-string-without-using-length-function/\n",
        "# Python Program for Calculating the length of string Without using length() function\n",
        "\n",
        "string = input(\"Enter String : \")\n",
        "count = 0\n",
        "\n",
        "# Counts length of string\n",
        "for i in string:\n",
        "    count+=1\n",
        "\n",
        "print(f\"Length of string is {count}\")    "
      ],
      "metadata": {
        "id": "gFYyxsNMg1JE"
      },
      "execution_count": null,
      "outputs": []
    },
    {
      "cell_type": "code",
      "source": [
        "# PrepInsta (Operations on Strings) - https://prepinsta.com/python-program/toggle-each-character-in-a-string/\n",
        "# Python program to toggle each character in a string\n",
        "\n",
        "string = input(\"Enter String : \")\n",
        "string1 = \"\"\n",
        "\n",
        "# Change case\n",
        "for i in string:\n",
        "    if(i.isupper()):\n",
        "        i = i.lower()\n",
        "    else:\n",
        "        i = i.upper()\n",
        "    string1 += i\n",
        "\n",
        "print(f\"{string} is changed to {string1}\")"
      ],
      "metadata": {
        "id": "GBNNONDMhYRK"
      },
      "execution_count": null,
      "outputs": []
    },
    {
      "cell_type": "code",
      "source": [
        "# PrepInsta (Operations on Strings) - https://prepinsta.com/python-program/count-the-number-of-vowels-in-a-string/\n",
        "# Python program to count the number of vowels in a string\n",
        "\n",
        "string = input(\"Enter String : \")\n",
        "count = 0\n",
        "\n",
        "# Counts number of vowels in the string\n",
        "for i in string:\n",
        "    if(i == 'a' or i == 'e' or i == 'i' or i == 'o' or \n",
        "    i == 'u' or i == 'A' or i == 'E' or i == 'I' or i == 'O' or i == 'U'):\n",
        "        count += 1\n",
        "\n",
        "print(f\"string has {count} vowels in it\")"
      ],
      "metadata": {
        "id": "lBN-ACzzkIcR"
      },
      "execution_count": null,
      "outputs": []
    },
    {
      "cell_type": "code",
      "source": [
        "# HackerRank (Basic Data Types) - https://www.hackerrank.com/challenges/list-comprehensions/problem\n",
        "# List Comprehensions - Print array of the elements that do not sum n = 3\n",
        "\n",
        "x = 1\n",
        "y = 1\n",
        "z = 2\n",
        "n = 3\n",
        "\n",
        "permutations = []\n",
        "sumNot3 = []\n",
        "\n",
        "# Generates permutations\n",
        "\n",
        "print(\"Following are the combinations : \\n\")\n",
        "for i in range(x+1):\n",
        "    for j in range(y+1):\n",
        "        for k in range(z+1):\n",
        "            permutations.append([i,j,k])\n",
        "            if(i + j + k != n):\n",
        "                sumNot3.append([i,j,k])\n",
        "            \n",
        "print(permutations)\n",
        "\n",
        "print(\"\\nArray of the elements that do not sum n = 3\\n\")\n",
        "print(sumNot3)"
      ],
      "metadata": {
        "id": "aV0hkUWZ_BZs"
      },
      "execution_count": null,
      "outputs": []
    },
    {
      "cell_type": "code",
      "source": [
        "# PrepInsta (Operations on String) - https://prepinsta.com/python-program/to-remove-the-vowels-from-a-string/\n",
        "# Python program to remove the vowels from a string\n",
        "\n",
        "string1 = input(\"Enter String : \")\n",
        "string2 = \"\"\n",
        "\n",
        "# Checks if character is a vowel and discards if it is\n",
        "for i in range(len(string1)):\n",
        "    v = string1[i]\n",
        "    if(v != \"a\" and v != \"e\" and v != \"i\" and v != \"o\" and v != \"u\" and v != \"A\" and v != \"E\" and v != \"I\" and v != \"O\" and v != \"U\"):\n",
        "        string2 += v\n",
        "        \n",
        "print(string2)"
      ],
      "metadata": {
        "id": "oBzxefNlC-OW"
      },
      "execution_count": null,
      "outputs": []
    },
    {
      "cell_type": "code",
      "source": [
        "# PrepInsta (Operations on String) - https://prepinsta.com/python-program/to-check-whether-a-string-is-a-palindrome-or-not/\n",
        "# Program to check whether a String is a Palindrome or not in Python\n",
        "\n",
        "string = input(\"Enter String : \")\n",
        "\n",
        "# Checks whether string is Palindrome or not\n",
        "if (string[::] == string[::-1]):\n",
        "    print(\"Yes, The String is Palindrome\")\n",
        "    print(f\"\\n{string[::]} = {string[::-1]}\")\n",
        "else:\n",
        "    print(\"No, String is no Palindrome\")\n",
        "    print(f\"\\n{string[::]} != {string[::-1]}\")"
      ],
      "metadata": {
        "id": "LEVXmKvcFiVb"
      },
      "execution_count": null,
      "outputs": []
    },
    {
      "cell_type": "code",
      "source": [
        "# PrepInsta (Operations on String) - https://prepinsta.com/python-program/reverse-a-string/\n",
        "# Program to Reverse a String in Python\n",
        "\n",
        "string = input(\"Enter String : \")\n",
        "\n",
        "# Reverses string\n",
        "reversed_string = string[::-1]\n",
        "\n",
        "print(f\"string = {string}\\nreversed string = {reversed_string}\")"
      ],
      "metadata": {
        "id": "ybe3vFPXG4dx"
      },
      "execution_count": null,
      "outputs": []
    },
    {
      "cell_type": "markdown",
      "source": [
        "# **ASSIGNMENT 2 - 25/08/2022**\n",
        "\n",
        "```python\n",
        "text1 = \"He owes me {n:.2f} Bucks\"\n",
        "short_text = \"hOw Are yoU, HOpE YOU aRE fInE\"\n",
        "long_text = \"On the other hand, we denounce with righteous indignation and dislike men who are so beguiled and demoralized by the charms of pleasure of the moment, so blinded by desire, that they cannot foresee the pain and trouble that are bound to ensue; and equal blame belongs to those who fail in their duty through weakness of will, which is the same as saying through shrinking from toil and pain. These cases are perfectly simple and easy to distinguish.\"\n",
        "list1 = ['p', 'r', 'a', 'n', 'a', 'v']\n",
        "text2 = \"he is 18 years old, and he likes to eat and travel alot. he is kind to elder people\"\n",
        "text3 = \"     <- 5 spaces      8 spaces->        \"\n",
        "\n",
        "# capitalize() converts first character to Capital Alphabet Case\n",
        "print(f\"Og string : {short_text}\\nCapitalized string : {short_text.capitalize()}\\n\")\n",
        "\n",
        "# casefold() converts whole string to lowercase\n",
        "print(f\"Og string : {short_text}\\nFolded Case string : {short_text.casefold()}\\n\")\n",
        "\n",
        "# count() counts number of occurence of specific text\n",
        "print(f\"Letter 'O' occurs {short_text.count('O', 0,len(short_text))} times\\n\")\n",
        "\n",
        "# endswith() checks whether the string endswith specific text\n",
        "print(f\"Does short_text endswith 'fine'? : {short_text.endswith('fine')}\")\n",
        "print(f\"Does short_text endswith 'fine'? : {short_text.endswith('fInE')}\\n\")\n",
        "\n",
        "# find() return index of first occurence of specific string in the string\n",
        "print(f\"'and' occurs first time at index : {long_text.find('and')}\\n\")\n",
        "\n",
        "# format() formats the complex string as required\n",
        "print(f\"Og text : {text1}\\nFormatted text : {text1.format(n = 10.5)}\\n\")\n",
        "\n",
        "# join() used to join elements of sequence\n",
        "print(f\"list1 : {list1}\\nJoin elements : {''.join(list1)}\\n\")\n",
        "\n",
        "print(\"Og string : {short_text}\")\n",
        "# lower() converts all characters in string to lowercase\n",
        "print(f\"lowercase string : {short_text.lower()}\")\n",
        "\n",
        "# upper() converts all characters in string to uppercase\n",
        "print(f\"uppercase string : {short_text.upper()}\\n\")\n",
        "\n",
        "# replace() replaces all occurence of substring with another substring\n",
        "print(f\"Og string : {text2}\\nModified string : {text2.replace('he', 'she')}\\n\")\n",
        "\n",
        "# strip() removes leading and trailing whitespaces\n",
        "print(f\"Og string : {text3}\\nStripped string : {text3.strip()}\\n\")\n",
        "\n",
        "# swapcase() swaps cases i.e lower -> upper & upper -> lower\n",
        "print(f\"Og string : {short_text}\\nCase Swapped string : {short_text.swapcase()}\")\n",
        "```\n",
        "\n",
        "\n"
      ],
      "metadata": {
        "id": "uIb5Rn91WIYf"
      }
    },
    {
      "cell_type": "code",
      "source": [
        "# HackerRank (Basic Data Types) - https://www.hackerrank.com/challenges/find-second-maximum-number-in-a-list/\n",
        "# Find the Runner-Up Score!\n",
        "\n",
        "n = int(input(\"Enter n : \"))\n",
        "score = [int(i) for i in input().split()]\n",
        "maxN = score[0]\n",
        "runner_up = 0\n",
        "\n",
        "print(f\"Score List : {score}\")\n",
        "\n",
        "# Here list is sorted \n",
        "for i in range(n):\n",
        "    for j in range(i+1, n):\n",
        "        if(score[j] > score[i]):\n",
        "            score[j], score[i] = score[i], score[j]\n",
        "\n",
        "maxN = score[0]\n",
        "\n",
        "# Runner-Up score is found by first occurenece of smaller number than greatest\n",
        "for i in range(n):\n",
        "    if score[i] < maxN:\n",
        "        runner_up = score[i]\n",
        "        break\n",
        "\n",
        "print(f\"Runner Up score is : {runner_up}\")"
      ],
      "metadata": {
        "id": "2abqi68dWagt"
      },
      "execution_count": null,
      "outputs": []
    },
    {
      "cell_type": "code",
      "source": [
        "# HackerRank (Basic Data Types) - https://www.hackerrank.com/challenges/nested-list/\n",
        "# Nested Lists - Print the names of student with second lowest marks\n",
        "\n",
        "if __name__ == '__main__':\n",
        "    \n",
        "    stud_list = []\n",
        "    second_lowest_score = 0\n",
        "    stud_second_lowest_score = []\n",
        "    n = int(input())\n",
        "    \n",
        "    for i in range(n):\n",
        "        name = input()\n",
        "        score = float(input())\n",
        "        stud_list.append([name,score])\n",
        "    \n",
        "    print(f\"Student List : {stud_list}\\n\")\n",
        "    \n",
        "    # Sorted the list based on marks\n",
        "    for i in range(n):\n",
        "        for j in range(i+1, n):\n",
        "            if(stud_list[j][1] < stud_list[i][1]):\n",
        "                stud_list[j], stud_list[i] = stud_list[i], stud_list[j]\n",
        "    print(f\"Sorted Student List : {stud_list}\\n\")\n",
        "    \n",
        "    # Got the lowest score\n",
        "    lowest_score = stud_list[0]\n",
        "    print(f\"Lowest score is {lowest_score[0]} scored by {lowest_score[1]}\\n\")\n",
        "    \n",
        "    \n",
        "    # Second lowest score is found by first occurenece of greater number than smallest\n",
        "    for i in range(n):\n",
        "        if stud_list[i][1] > lowest_score[1]:\n",
        "            second_lowest_score = float(stud_list[i][1])\n",
        "            break\n",
        "    # print(second_lowest_score)\n",
        "    \n",
        "    # Sort the list of students getting second lowest marks\n",
        "    for i in range(n):\n",
        "        if stud_list[i][1] == second_lowest_score:\n",
        "            stud_second_lowest_score.append(stud_list[i][0])\n",
        "    stud_second_lowest_score.sort()\n",
        "    \n",
        "    print(f\"Second Lowest Score : {second_lowest_score}\\nIs Scored by : \")\n",
        "    for i in stud_second_lowest_score:\n",
        "        print(i)"
      ],
      "metadata": {
        "id": "wiAgK_IEHlLe"
      },
      "execution_count": null,
      "outputs": []
    },
    {
      "cell_type": "code",
      "source": [
        "# HackerRank (Basic Data Types) - https://www.hackerrank.com/challenges/finding-the-percentage/\n",
        "# Finding the percentage\n",
        "\n",
        "if __name__ == '__main__':\n",
        "    n = int(input(\"Enter n : \"))\n",
        "    student_marks = {}\n",
        "    sum_marks = 0\n",
        "    avg_marks = 0\n",
        "    \n",
        "    print(\"Enter Students Name & Marks : \")\n",
        "    for i in range(n):\n",
        "        name, *line = input().split()\n",
        "        scores = list(map(float, line))\n",
        "        student_marks[name] = scores\n",
        "    \n",
        "    query_name = input(\"Enter Name : \")\n",
        "    \n",
        "    # query_name is matched with the key and Sum of Marks is obtained\n",
        "    for name_key, marks_value in student_marks.items():\n",
        "        if query_name == name_key:\n",
        "            for i in marks_value:\n",
        "                sum_marks += i\n",
        "    \n",
        "    # Average of Marks\n",
        "    avg_marks = sum_marks / 3\n",
        "    \n",
        "    print(f\"{query_name} has scored an average of : {avg_marks:.2f}\")"
      ],
      "metadata": {
        "id": "x0GiVBFjarEy"
      },
      "execution_count": null,
      "outputs": []
    },
    {
      "cell_type": "code",
      "source": [
        "# HackerRank (Basic Data Types) - https://www.hackerrank.com/challenges/python-lists/\n",
        "# List - List Functions\n",
        "\n",
        "if __name__ == '__main__':\n",
        "    n = int(input())\n",
        "    \n",
        "    lis = []\n",
        "    \n",
        "    # Iterates n times i.e n number of commands\n",
        "    for i in range(n):\n",
        "        name, *line = input().split()\n",
        "        pos_int = list(map(int, line))\n",
        "        \n",
        "        if name == \"insert\":\n",
        "            lis.insert(pos_int[0], pos_int[1])\n",
        "        \n",
        "        elif name == \"append\":\n",
        "            lis.append(pos_int[0])\n",
        "        \n",
        "        elif name == \"remove\":\n",
        "            lis.remove(pos_int[0])\n",
        "        \n",
        "        elif name == \"sort\":\n",
        "            lis.sort()\n",
        "        \n",
        "        elif name == \"pop\":\n",
        "            lis.pop()\n",
        "        \n",
        "        elif name == \"reverse\":\n",
        "            lis.reverse()\n",
        "        \n",
        "        elif name == \"print\":\n",
        "            print(lis)"
      ],
      "metadata": {
        "id": "ZgQqRj_Gd7W8"
      },
      "execution_count": null,
      "outputs": []
    },
    {
      "cell_type": "code",
      "source": [
        "# HackerRank (Basic Data Types) - https://www.hackerrank.com/challenges/python-tuples/\n",
        "# Tuples (Hash)\n",
        "\n",
        "if __name__ == '__main__':\n",
        "    n = int(raw_input())\n",
        "    integer_list = map(int, raw_input().split())\n",
        "    \n",
        "    # here t which is a list is typecasted into tuple\n",
        "    # lists are not hashable in python\n",
        "    t = tuple(integer_list)\n",
        "    \n",
        "    print(type(t))\n",
        "    print(hash(t))"
      ],
      "metadata": {
        "id": "xpk_N0rRfFKs"
      },
      "execution_count": null,
      "outputs": []
    },
    {
      "cell_type": "code",
      "source": [
        "# HackerRank (Basic Data Types) - https://www.hackerrank.com/challenges/find-a-string/\n",
        "# Strings - Find a String\n",
        "\n",
        "def count_substring(string, sub_string):\n",
        "    count = 0\n",
        "    \n",
        "    # iterates through every len(sub_string)\n",
        "    for i in range(0,len(string) - len(sub_string) + 1):\n",
        "        if string[i:i+len(sub_string)] == sub_string:\n",
        "            count += 1\n",
        "    \n",
        "    return count\n",
        "\n",
        "if __name__ == '__main__':\n",
        "    string = input()\n",
        "    sub_string = raw_input()\n",
        "    \n",
        "    count = count_substring(string, sub_string)\n",
        "    print count"
      ],
      "metadata": {
        "id": "UcFW0LmapEBi"
      },
      "execution_count": null,
      "outputs": []
    },
    {
      "cell_type": "code",
      "source": [
        "# HackerRank (Basic Data Types) - https://www.hackerrank.com/challenges/swap-case/\n",
        "# Strings - sWAP cASE\n",
        "\n",
        "def swap_case(s):\n",
        "  # string function to swap case in python\n",
        "    return s.swapcase()\n",
        "\n",
        "if __name__ == '__main__':\n",
        "    s = raw_input()\n",
        "    result = swap_case(s)\n",
        "    print result"
      ],
      "metadata": {
        "id": "0o4sYL1Fu5lF"
      },
      "execution_count": null,
      "outputs": []
    },
    {
      "cell_type": "markdown",
      "source": [
        "# **Assignment 3 - 30/08/2022**\n",
        "\n",
        "## List Function\n",
        "\n",
        "```python\n",
        "list1 = [\"Pranav\", \"Dhawale\", 19, 23.63, True]\n",
        "list3 = ['a', 'c', 'a', 'b', 'b', 'a', 'c', 'b', 'c',]\n",
        "\n",
        "# append() adds elements to the last of the list\n",
        "print(f\"Og List1 : {list1}\")\n",
        "list1.append(\"LGM\")\n",
        "print(f\"Appended List : {list1}\\n\")\n",
        "\n",
        "# insert() inserts element at the specified index\n",
        "print(f\"Og List1 : {list1}\")\n",
        "list1.insert(1, \"Mukund\")\n",
        "print(f\"Modified List1 : {list1}\\n\")\n",
        "\n",
        "# copy() copy entire list to another list\n",
        "list2 = list1.copy()\n",
        "print(f\"List2 : {list2} == List1 : {list1}\\n\")\n",
        "\n",
        "# extend() extends || concatenates another list\n",
        "print(f\"Og List1 : {list1}\")\n",
        "list1.extend(list2)\n",
        "print(f\"Extended List1 : {list1}\\n\")\n",
        "\n",
        "# clear() removes all elements from the list\n",
        "print(f\"Og List2 : {list2}\")\n",
        "list2.clear()\n",
        "print(f\"Cleared List2 : {list2}\\n\")\n",
        "\n",
        "# count() counts the number of occurences of specified element\n",
        "print(f\"letter 'b' occurs {list3.count('b')} times\\n\")\n",
        "\n",
        "# index() returns the first occurence of specified element\n",
        "print(f\"letter 'c' occurs first at index : {list3.index('c')}\\n\")\n",
        "\n",
        "# pop() removes the last element\n",
        "print(f\"Og List1 : {list1}\")\n",
        "list1.pop()\n",
        "print(f\"Modified List1 : {list1}\\n\")\n",
        "\n",
        "# remove() discards || removes the specified element\n",
        "print(f\"Og List1 : {list1}\")\n",
        "list1.remove(True)\n",
        "print(f\"Modified List1 : {list1}\\n\")\n",
        "\n",
        "# reverse() reverses the entire list\n",
        "print(f\"Og List3 : {list3}\")\n",
        "list3.reverse()\n",
        "print(f\"Reversed List3 : {list3}\\n\")\n",
        "\n",
        "# sort() sorts the entire list\n",
        "print(f\"Og List3 : {list3}\")\n",
        "list3.sort()\n",
        "print(f\"Sorted List3 : {list3}\")\n",
        "```\n",
        "\n",
        "## Tuple Function\n",
        "\n",
        "```python\n",
        "tuple1 = (\"car\", \"ball\", \"bat\", 43, 54.2, True, False)\n",
        "tuple2 = (\"cat\")\n",
        "list1 = ['a', 'b', 'c', 'd', 'e', 'f']\n",
        "string1 = \"Pranav\"\n",
        "\n",
        "# Prints the tuple\n",
        "print(f\"tuple1 : {tuple1}\\n\")\n",
        "\n",
        "# Returns the length of tuple\n",
        "print(f\"Length of tuple1 : {len(tuple1)}\\n\")\n",
        "\n",
        "# Returns the type of tuple\n",
        "print(f\"Type of tuple1 : {type(tuple1)}\")\n",
        "print(f\"Type of tuple2 : {type(tuple2)}\\n\")\n",
        "\n",
        "# Converts list into tuple\n",
        "tuple3 = tuple(list1)\n",
        "print(f\"list1 : {list1}\\ntuple3 : {tuple3}\\n\")\n",
        "\n",
        "# Converts string into tuple\n",
        "tuple4 = tuple(string1)\n",
        "print(f\"string1 : {string1}\\ntuple3 : {tuple3}\\n\")\n",
        "```"
      ],
      "metadata": {
        "id": "J_pGlrlCvZ9u"
      }
    },
    {
      "cell_type": "code",
      "source": [
        "# PrepInsta (Getting Started) - https://prepinsta.com/python-program/find-whether-a-given-number-is-positive-or-negative/\n",
        "# Python program to check if a Number Is Positive Or Negative\n",
        "\n",
        "n = int(input(\"Enter n : \"))\n",
        "\n",
        "# Checks whether the number is positive or negative\n",
        "if n >= 0:\n",
        "    print(f\"{n} is a positive number\")\n",
        "else:\n",
        "    print(f\"{n} is a negative number\")"
      ],
      "metadata": {
        "id": "1YH0vhACTwEo"
      },
      "execution_count": null,
      "outputs": []
    },
    {
      "cell_type": "code",
      "source": [
        "# PrepInsta (Getting Started) - https://prepinsta.com/python-program/Check-Whether-a-Number-is-Even-or-Odd/\n",
        "# Python program to Check Whether a Number is Even or Odd\n",
        "\n",
        "n = int(input(\"Enter n : \"))\n",
        "\n",
        "# Checks whether the number is odd or even\n",
        "if n %2 == 0:\n",
        "    print(f\"{n} is an even number\")\n",
        "else:\n",
        "    print(f\"{n} is an odd number\")"
      ],
      "metadata": {
        "id": "kcHlRuwFT-7S"
      },
      "execution_count": null,
      "outputs": []
    },
    {
      "cell_type": "code",
      "source": [
        "# PrepInsta (Getting Started) - https://prepinsta.com/python-program/find-the-sum-of-first-n-natural-numbers/\n",
        "# Python Program to Find the Sum of First N Natural Numbers\n",
        "\n",
        "n = int(input(\"Enter n : \"))\n",
        "sumN = 0\n",
        "\n",
        "# Returns sum of first N natural numbers\n",
        "for i in range(n):\n",
        "    sumN += i\n",
        "\n",
        "print(f\"Sum of first N natural numbers is {sumN}\")"
      ],
      "metadata": {
        "id": "Wqx9hHFAUdmJ"
      },
      "execution_count": null,
      "outputs": []
    },
    {
      "cell_type": "code",
      "source": [
        "# PrepInsta (Getting Started) - https://prepinsta.com/python-program/sum-of-numbers-in-a-given-range/\n",
        "# Python Program to Find the Sum of Numbers in a given Range\n",
        "\n",
        "start = int(input(\"Enter start of range : \"))\n",
        "end = int(input(\"Enter end of range : \"))\n",
        "sumN = 0\n",
        "\n",
        "# Returns sum of numbers in a given range\n",
        "for i in range(start,end+1):\n",
        "    sumN += i\n",
        "\n",
        "print(f\"Sum of first N natural numbers is {sumN}\")"
      ],
      "metadata": {
        "id": "a7KfzvvlU3Tj"
      },
      "execution_count": null,
      "outputs": []
    },
    {
      "cell_type": "code",
      "source": [
        "# PrepInsta (Getting Started) - https://prepinsta.com/python-program/find-greatest-of-two-numbers/\n",
        "# Python Program to Find the Greatest of Two Numbers\n",
        "\n",
        "a = int(input(\"Enter a : \"))\n",
        "b = int(input(\"Enter b : \"))\n",
        "\n",
        "# Check which one is greater\n",
        "if a > b:\n",
        "    print(\"a is greater than b\")\n",
        "elif b > a:\n",
        "    print(\"b is greater than a\")\n",
        "else:\n",
        "    print(\"a and b both are equal\")"
      ],
      "metadata": {
        "id": "fvcrmH5_WEAC"
      },
      "execution_count": null,
      "outputs": []
    },
    {
      "cell_type": "code",
      "source": [
        "# PrepInsta (Getting Started) - https://prepinsta.com/python-program/find-the-largest-number-among-three-numbers/\n",
        "# Python Program to Find the Greatest of the Three Numbers\n",
        "\n",
        "a = int(input(\"Enter a : \"))\n",
        "b = int(input(\"Enter b : \"))\n",
        "c = int(input(\"Enter c : \"))\n",
        "\n",
        "# Check which one is greater\n",
        "if a > b and a > c:\n",
        "    print(\"a is the greatest between them\")\n",
        "elif b > a and b > c:\n",
        "    print(\"b is the greatest between them\")\n",
        "else:\n",
        "    print(\"c is the greatest between them\")"
      ],
      "metadata": {
        "id": "tLNgGvizYBEV"
      },
      "execution_count": null,
      "outputs": []
    },
    {
      "cell_type": "code",
      "source": [
        "# PrepInsta (Getting Started) - https://prepinsta.com/python-program/program-to-check-if-the-given-number-is-prime-or-not/\n",
        "# Python Program to Check Whether a Number is a Prime or Not\n",
        "\n",
        "n = int(input(\"Enter n : \"))\n",
        "flag = 0\n",
        "\n",
        "# flags if modulus of n is 0\n",
        "for i in range(2, n + 1):\n",
        "    if n %i == 0:\n",
        "        flag = 1\n",
        "        break\n",
        "\n",
        "if flag == 1:\n",
        "    print(f\"{n} is not a prime number\")\n",
        "else:\n",
        "    print(f\"{n} is a prime number\")"
      ],
      "metadata": {
        "id": "cKeeVni1ZL_H"
      },
      "execution_count": null,
      "outputs": []
    },
    {
      "cell_type": "code",
      "source": [
        "# PrepInsta (Getting Started) - https://prepinsta.com/python-program/prime-numbers-in-a-given-range/\n",
        "# Python Program to Print Prime Numbers In a Given Range\n",
        "\n",
        "low = 2\n",
        "rangeN = int(input(\"Enter till range : \"))\n",
        "prime_list = []\n",
        "flag = 0\n",
        "\n",
        "# Check if the number is prime or not\n",
        "for i in range(low, rangeN):    \n",
        "    for x in range(2,i):\n",
        "        if i %x == 0:\n",
        "            flag = 1\n",
        "            break\n",
        "    \n",
        "    # appends the number to the prime_list if it is a prime number\n",
        "    if flag == 0:\n",
        "        prime_list.append(i)\n",
        "    flag = 0\n",
        "\n",
        "print(prime_list)"
      ],
      "metadata": {
        "id": "rdjIJqmChJGx"
      },
      "execution_count": null,
      "outputs": []
    }
  ]
}