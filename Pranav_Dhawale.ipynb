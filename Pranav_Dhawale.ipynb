{
  "nbformat": 4,
  "nbformat_minor": 0,
  "metadata": {
    "colab": {
      "name": "Pranav_Dhawale",
      "provenance": [],
      "collapsed_sections": [],
      "authorship_tag": "ABX9TyNyMTAm9K4bKCI5ne8H3Hq7",
      "include_colab_link": true
    },
    "kernelspec": {
      "name": "python3",
      "display_name": "Python 3"
    },
    "language_info": {
      "name": "python"
    }
  },
  "cells": [
    {
      "cell_type": "markdown",
      "metadata": {
        "id": "view-in-github",
        "colab_type": "text"
      },
      "source": [
        "<a href=\"https://colab.research.google.com/github/pranavdhawale/google-colab-LGM/blob/master/Pranav_Dhawale.ipynb\" target=\"_parent\"><img src=\"https://colab.research.google.com/assets/colab-badge.svg\" alt=\"Open In Colab\"/></a>"
      ]
    },
    {
      "cell_type": "code",
      "source": [
        "# Print Hello World!\n",
        "\n",
        "print(\"Hello World!\")"
      ],
      "metadata": {
        "id": "pmDe9aEx1nDC"
      },
      "execution_count": null,
      "outputs": []
    },
    {
      "cell_type": "code",
      "source": [
        "# Print name 10 times\n",
        "\n",
        "for i in range(10):\n",
        "  print(\"Pranav Dhawale\")"
      ],
      "metadata": {
        "id": "bR5oBi6d2R5w"
      },
      "execution_count": null,
      "outputs": []
    },
    {
      "cell_type": "code",
      "source": [
        "# HackerRank (Introduction) - https://www.hackerrank.com/challenges/py-hello-world/problem\n",
        "# Say \"Hello, World!\" With Python\n",
        "\n",
        "print(\"Hello, World!\")"
      ],
      "metadata": {
        "colab": {
          "base_uri": "https://localhost:8080/"
        },
        "id": "qHLfi23l_LAn",
        "outputId": "7c8c3ae0-0e82-4153-b6bc-72a6f2eedca9"
      },
      "execution_count": null,
      "outputs": [
        {
          "output_type": "stream",
          "name": "stdout",
          "text": [
            "Hello, World!\n"
          ]
        }
      ]
    },
    {
      "cell_type": "code",
      "source": [
        "# HackerRank (Introduction) - https://www.hackerrank.com/challenges/py-if-else/problem\n",
        "# Python If-Else\n",
        "\n",
        "n = int(input())\n",
        "    \n",
        "if n%2!=0:\n",
        "    print(\"Weird\")\n",
        "\n",
        "elif n%2==0:\n",
        "    if n >=2 and n <=5:\n",
        "        print(\"Not Weird\")\n",
        "    elif n >=6 and n <=20:\n",
        "        print(\"Weird\")\n",
        "    elif n > 20:\n",
        "        print(\"Not Weird\")"
      ],
      "metadata": {
        "id": "w0JxoogEB1le"
      },
      "execution_count": null,
      "outputs": []
    },
    {
      "cell_type": "code",
      "source": [
        "# HackerRank (Introduction) - https://www.hackerrank.com/challenges/python-arithmetic-operators/problem\n",
        "# Python Arithmetic Operators\n",
        "\n",
        "if __name__ == '__main__':\n",
        "    a = int(input())\n",
        "    b = int(input())\n",
        "    \n",
        "    print(a+b)\n",
        "    print(a-b)\n",
        "    print(a*b)"
      ],
      "metadata": {
        "id": "BSiOY2B7CCFV"
      },
      "execution_count": null,
      "outputs": []
    },
    {
      "cell_type": "code",
      "source": [
        "# HackerRank (Introduction) - https://www.hackerrank.com/challenges/python-division/problem\n",
        "# Python Division\n",
        "\n",
        "if __name__ == '__main__':\n",
        "    a = int(input())\n",
        "    b = int(input())\n",
        "    \n",
        "    print(a//b)\n",
        "    print(a/b)"
      ],
      "metadata": {
        "id": "qFg3EMaWDC7m"
      },
      "execution_count": null,
      "outputs": []
    },
    {
      "cell_type": "code",
      "source": [
        "# HackerRank (Introduction) - https://www.hackerrank.com/challenges/python-loops/problem\n",
        "# Python Loops\n",
        "\n",
        "if __name__ == '__main__':\n",
        "    n = int(input())\n",
        "    for i in range(n):\n",
        "        print(i*i)"
      ],
      "metadata": {
        "id": "eFxNbAWjCryz"
      },
      "execution_count": null,
      "outputs": []
    },
    {
      "cell_type": "code",
      "source": [
        "# HackerRank (Introduction) - https://www.hackerrank.com/challenges/write-a-function/problem\n",
        "# Determine whether it is a Leap Year or not\n",
        "\n",
        "def is_leap(year):\n",
        "    leap = False\n",
        "    \n",
        "    if year % 4 == 0:\n",
        "        if year % 100 != 0:\n",
        "            leap = True\n",
        "        elif year % 400 == 0:\n",
        "            leap = True\n",
        "    \n",
        "    return leap\n",
        "\n",
        "year = int(input())\n",
        "print(is_leap(year))"
      ],
      "metadata": {
        "id": "WHw56QG0MaDK"
      },
      "execution_count": null,
      "outputs": []
    },
    {
      "cell_type": "code",
      "source": [
        "# HackerRank (Introduction) - https://www.hackerrank.com/challenges/python-print/problem\n",
        "# Print the list of integers from  through  as a string, without spaces\n",
        "\n",
        "if __name__ == '__main__':\n",
        "    n = int(input())\n",
        "    for i in range(1,n+1):\n",
        "        print(i, end=\"\")"
      ],
      "metadata": {
        "id": "qU95vR55ROhP"
      },
      "execution_count": null,
      "outputs": []
    },
    {
      "cell_type": "code",
      "source": [
        "# PrepInsta (Operations on Strings) - https://prepinsta.com/python-program/for-checking-a-character-is-a-vowel-or-consonant/\n",
        "# Python Program for checking a character is a vowel or consonant\n",
        "\n",
        "user_input = input(\"Enter character : \")\n",
        "\n",
        "# Checks whether user_input is vowel or consonant\n",
        "if(user_input == \"a\" or user_input == \"e\" or user_input == \"i\" or user_input == \"o\" or user_input == \"u\" or user_input == \"A\" or user_input == \"E\" or user_input == \"I\" or user_input == \"O\" or user_input == \"U\"):\n",
        "    print(\"It is a vowel\")\n",
        "elif(user_input == )\n",
        "else:\n",
        "    print(\"It is a consonant\")"
      ],
      "metadata": {
        "id": "DAjif5SybImB"
      },
      "execution_count": null,
      "outputs": []
    },
    {
      "cell_type": "code",
      "source": [
        "# PrepInsta (Operations on Strings) - https://prepinsta.com/python-program/to-check-whether-a-character-is-alphabet-or-not/\n",
        "# Python program to check whether a character is an alphabet or not\n",
        "\n",
        "user_input = input(\"Enter Character : \")\n",
        "isAlpha = False\n",
        "\n",
        "# Checks whether user_input is an Alphabet or not\n",
        "if (user_input >= 'A' and user_input <= 'Z' or user_input >= 'a' and user_input <= 'z'):\n",
        "    isAlpha = True\n",
        "    print(isAlpha)\n",
        "else:\n",
        "    print(isAlpha)"
      ],
      "metadata": {
        "id": "2vS4sDqscsbv"
      },
      "execution_count": null,
      "outputs": []
    },
    {
      "cell_type": "code",
      "source": [
        "# PrepInsta (Operations on Strings) - https://prepinsta.com/python-program/calculating-the-length-of-string-without-using-length-function/\n",
        "# Python Program for Calculating the length of string Without using length() function\n",
        "\n",
        "string = input(\"Enter String : \")\n",
        "count = 0\n",
        "\n",
        "# Counts length of string\n",
        "for i in string:\n",
        "    count+=1\n",
        "\n",
        "print(f\"Length of string is {count}\")    "
      ],
      "metadata": {
        "id": "gFYyxsNMg1JE"
      },
      "execution_count": null,
      "outputs": []
    },
    {
      "cell_type": "code",
      "source": [
        "# PrepInsta (Operations on Strings) - https://prepinsta.com/python-program/toggle-each-character-in-a-string/\n",
        "# Python program to toggle each character in a string\n",
        "\n",
        "string = input(\"Enter String : \")\n",
        "string1 = \"\"\n",
        "\n",
        "# Change case\n",
        "for i in string:\n",
        "    if(i.isupper()):\n",
        "        i = i.lower()\n",
        "    else:\n",
        "        i = i.upper()\n",
        "    string1 += i\n",
        "\n",
        "print(f\"{string} is changed to {string1}\")"
      ],
      "metadata": {
        "id": "GBNNONDMhYRK"
      },
      "execution_count": null,
      "outputs": []
    },
    {
      "cell_type": "code",
      "source": [
        "# PrepInsta (Operations on Strings) - https://prepinsta.com/python-program/count-the-number-of-vowels-in-a-string/\n",
        "# Python program to count the number of vowels in a string\n",
        "\n",
        "string = input(\"Enter String : \")\n",
        "count = 0\n",
        "\n",
        "# Counts number of vowels in the string\n",
        "for i in string:\n",
        "    if(i == 'a' or i == 'e' or i == 'i' or i == 'o' or \n",
        "    i == 'u' or i == 'A' or i == 'E' or i == 'I' or i == 'O' or i == 'U'):\n",
        "        count += 1\n",
        "\n",
        "print(f\"string has {count} vowels in it\")"
      ],
      "metadata": {
        "id": "lBN-ACzzkIcR"
      },
      "execution_count": null,
      "outputs": []
    },
    {
      "cell_type": "code",
      "source": [
        "# HackerRank (Basic Data Types) - https://www.hackerrank.com/challenges/list-comprehensions/problem\n",
        "# List Comprehensions - Print array of the elements that do not sum n = 3\n",
        "\n",
        "x = 1\n",
        "y = 1\n",
        "z = 2\n",
        "n = 3\n",
        "\n",
        "permutations = []\n",
        "sumNot3 = []\n",
        "\n",
        "# Generates permutations\n",
        "\n",
        "print(\"Following are the combinations : \\n\")\n",
        "for i in range(x+1):\n",
        "    for j in range(y+1):\n",
        "        for k in range(z+1):\n",
        "            permutations.append([i,j,k])\n",
        "            if(i + j + k != n):\n",
        "                sumNot3.append([i,j,k])\n",
        "            \n",
        "print(permutations)\n",
        "\n",
        "print(\"\\nArray of the elements that do not sum n = 3\\n\")\n",
        "print(sumNot3)"
      ],
      "metadata": {
        "id": "aV0hkUWZ_BZs"
      },
      "execution_count": null,
      "outputs": []
    }
  ]
}