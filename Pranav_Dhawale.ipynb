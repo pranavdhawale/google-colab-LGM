{
  "nbformat": 4,
  "nbformat_minor": 0,
  "metadata": {
    "colab": {
      "name": "Pranav_Dhawale",
      "provenance": [],
      "collapsed_sections": [],
      "authorship_tag": "ABX9TyP228GfiVpUZxWArNhDNoOg",
      "include_colab_link": true
    },
    "kernelspec": {
      "name": "python3",
      "display_name": "Python 3"
    },
    "language_info": {
      "name": "python"
    }
  },
  "cells": [
    {
      "cell_type": "markdown",
      "metadata": {
        "id": "view-in-github",
        "colab_type": "text"
      },
      "source": [
        "<a href=\"https://colab.research.google.com/github/pranavdhawale/google-colab-LGM/blob/master/Pranav_Dhawale.ipynb\" target=\"_parent\"><img src=\"https://colab.research.google.com/assets/colab-badge.svg\" alt=\"Open In Colab\"/></a>"
      ]
    },
    {
      "cell_type": "markdown",
      "source": [
        "# **ASSIGNMENT 1**\n",
        "\n",
        "**Python Introduction**<br>\n",
        "Python is a general purpose,dynamic,high level,and interpreted programming language. It supports Object Oriented programming approach to develop applications. It is simple and easy to learn and provides lots of high-level data structures. Python is easy to learn yet powerful and versatile scripting language, which makes it attractive for Application Development. Python's syntax and dynamic typing with Its Interpreted nature make it an ideal language for scripting and rapid application development. Python supports multiple programming pattern,including object-oriented, imperative, and functional or procedural programming styles.\n",
        "<br>\n",
        "\n",
        "**Python Feature**<br>\n",
        "- Free and Open Source\n",
        "- Easy to Code\n",
        "- Easy to Read\n",
        "- Object Oriented Programming (OOP)\n",
        "- GUI Programming Support\n",
        "- High Level Langugage\n",
        "- Extensible Feature\n",
        "- Easy to Debug\n",
        "- Python is a Portable language\n",
        "- Integrated Language\n",
        "- Large Standard Library\n",
        "- Dynamically Typed\n",
        "- Frontend & Backend Development\n",
        "- Allocating Memory Dynamically\n",
        "<br>\n",
        "\n",
        "**Python Applications**<br>\n",
        "- Data Science and Data Visualization\n",
        "- Game Development\n",
        "- Web Development\n",
        "- Machine Learning and Artificial Intelligence\n",
        "- Desktop GUI\n",
        "- CAD Applications\n",
        "- E-Commerce Applications\n",
        "<br>\n",
        "\n",
        "**Python UseCases**<br>\n",
        "- AI/ML\n",
        "- Software Development\n",
        "- Web Scraping\n",
        "- Education Programs\n",
        "<br>\n",
        "\n",
        "**Python IDEs**<br>\n",
        "- IDLE\n",
        "- PyCharm\n",
        "- Sublime Text 3\n",
        "- Atom\n",
        "- VS(Visual Studio) Code\n"
      ],
      "metadata": {
        "id": "020cgzcFIj85"
      }
    },
    {
      "cell_type": "code",
      "source": [
        "# Print Hello World!\n",
        "\n",
        "print(\"Hello World!\")"
      ],
      "metadata": {
        "id": "pmDe9aEx1nDC"
      },
      "execution_count": null,
      "outputs": []
    },
    {
      "cell_type": "code",
      "source": [
        "# Print name 10 times\n",
        "\n",
        "for i in range(10):\n",
        "  print(\"Pranav Dhawale\")"
      ],
      "metadata": {
        "id": "bR5oBi6d2R5w"
      },
      "execution_count": null,
      "outputs": []
    },
    {
      "cell_type": "code",
      "source": [
        "# HackerRank (Introduction) - https://www.hackerrank.com/challenges/py-hello-world/problem\n",
        "# Say \"Hello, World!\" With Python\n",
        "\n",
        "print(\"Hello, World!\")"
      ],
      "metadata": {
        "colab": {
          "base_uri": "https://localhost:8080/"
        },
        "id": "qHLfi23l_LAn",
        "outputId": "7c8c3ae0-0e82-4153-b6bc-72a6f2eedca9"
      },
      "execution_count": null,
      "outputs": [
        {
          "output_type": "stream",
          "name": "stdout",
          "text": [
            "Hello, World!\n"
          ]
        }
      ]
    },
    {
      "cell_type": "code",
      "source": [
        "# HackerRank (Introduction) - https://www.hackerrank.com/challenges/py-if-else/problem\n",
        "# Python If-Else\n",
        "\n",
        "n = int(input())\n",
        "    \n",
        "if n%2!=0:\n",
        "    print(\"Weird\")\n",
        "\n",
        "elif n%2==0:\n",
        "    if n >=2 and n <=5:\n",
        "        print(\"Not Weird\")\n",
        "    elif n >=6 and n <=20:\n",
        "        print(\"Weird\")\n",
        "    elif n > 20:\n",
        "        print(\"Not Weird\")"
      ],
      "metadata": {
        "id": "w0JxoogEB1le"
      },
      "execution_count": null,
      "outputs": []
    },
    {
      "cell_type": "code",
      "source": [
        "# HackerRank (Introduction) - https://www.hackerrank.com/challenges/python-arithmetic-operators/problem\n",
        "# Python Arithmetic Operators\n",
        "\n",
        "if __name__ == '__main__':\n",
        "    a = int(input())\n",
        "    b = int(input())\n",
        "    \n",
        "    print(a+b)\n",
        "    print(a-b)\n",
        "    print(a*b)"
      ],
      "metadata": {
        "id": "BSiOY2B7CCFV"
      },
      "execution_count": null,
      "outputs": []
    },
    {
      "cell_type": "code",
      "source": [
        "# HackerRank (Introduction) - https://www.hackerrank.com/challenges/python-division/problem\n",
        "# Python Division\n",
        "\n",
        "if __name__ == '__main__':\n",
        "    a = int(input())\n",
        "    b = int(input())\n",
        "    \n",
        "    print(a//b)\n",
        "    print(a/b)"
      ],
      "metadata": {
        "id": "qFg3EMaWDC7m"
      },
      "execution_count": null,
      "outputs": []
    },
    {
      "cell_type": "code",
      "source": [
        "# HackerRank (Introduction) - https://www.hackerrank.com/challenges/python-loops/problem\n",
        "# Python Loops\n",
        "\n",
        "if __name__ == '__main__':\n",
        "    n = int(input())\n",
        "    for i in range(n):\n",
        "        print(i*i)"
      ],
      "metadata": {
        "id": "eFxNbAWjCryz"
      },
      "execution_count": null,
      "outputs": []
    },
    {
      "cell_type": "code",
      "source": [
        "# HackerRank (Introduction) - https://www.hackerrank.com/challenges/write-a-function/problem\n",
        "# Determine whether it is a Leap Year or not\n",
        "\n",
        "def is_leap(year):\n",
        "    leap = False\n",
        "    \n",
        "    if year % 4 == 0:\n",
        "        if year % 100 != 0:\n",
        "            leap = True\n",
        "        elif year % 400 == 0:\n",
        "            leap = True\n",
        "    \n",
        "    return leap\n",
        "\n",
        "year = int(input())\n",
        "print(is_leap(year))"
      ],
      "metadata": {
        "id": "WHw56QG0MaDK"
      },
      "execution_count": null,
      "outputs": []
    },
    {
      "cell_type": "code",
      "source": [
        "# HackerRank (Introduction) - https://www.hackerrank.com/challenges/python-print/problem\n",
        "# Print the list of integers from  through  as a string, without spaces\n",
        "\n",
        "if __name__ == '__main__':\n",
        "    n = int(input())\n",
        "    for i in range(1,n+1):\n",
        "        print(i, end=\"\")"
      ],
      "metadata": {
        "id": "qU95vR55ROhP"
      },
      "execution_count": null,
      "outputs": []
    },
    {
      "cell_type": "code",
      "source": [
        "# PrepInsta (Operations on Strings) - https://prepinsta.com/python-program/for-checking-a-character-is-a-vowel-or-consonant/\n",
        "# Python Program for checking a character is a vowel or consonant\n",
        "\n",
        "user_input = input(\"Enter character : \")\n",
        "\n",
        "# Checks whether user_input is vowel or consonant\n",
        "if(user_input == \"a\" or user_input == \"e\" or user_input == \"i\" or user_input == \"o\" or user_input == \"u\" or user_input == \"A\" or user_input == \"E\" or user_input == \"I\" or user_input == \"O\" or user_input == \"U\"):\n",
        "    print(\"It is a vowel\")\n",
        "elif(user_input == )\n",
        "else:\n",
        "    print(\"It is a consonant\")"
      ],
      "metadata": {
        "id": "DAjif5SybImB"
      },
      "execution_count": null,
      "outputs": []
    },
    {
      "cell_type": "code",
      "source": [
        "# PrepInsta (Operations on Strings) - https://prepinsta.com/python-program/to-check-whether-a-character-is-alphabet-or-not/\n",
        "# Python program to check whether a character is an alphabet or not\n",
        "\n",
        "user_input = input(\"Enter Character : \")\n",
        "isAlpha = False\n",
        "\n",
        "# Checks whether user_input is an Alphabet or not\n",
        "if (user_input >= 'A' and user_input <= 'Z' or user_input >= 'a' and user_input <= 'z'):\n",
        "    isAlpha = True\n",
        "    print(isAlpha)\n",
        "else:\n",
        "    print(isAlpha)"
      ],
      "metadata": {
        "id": "2vS4sDqscsbv"
      },
      "execution_count": null,
      "outputs": []
    },
    {
      "cell_type": "code",
      "source": [
        "# PrepInsta (Operations on Strings) - https://prepinsta.com/python-program/calculating-the-length-of-string-without-using-length-function/\n",
        "# Python Program for Calculating the length of string Without using length() function\n",
        "\n",
        "string = input(\"Enter String : \")\n",
        "count = 0\n",
        "\n",
        "# Counts length of string\n",
        "for i in string:\n",
        "    count+=1\n",
        "\n",
        "print(f\"Length of string is {count}\")    "
      ],
      "metadata": {
        "id": "gFYyxsNMg1JE"
      },
      "execution_count": null,
      "outputs": []
    },
    {
      "cell_type": "code",
      "source": [
        "# PrepInsta (Operations on Strings) - https://prepinsta.com/python-program/toggle-each-character-in-a-string/\n",
        "# Python program to toggle each character in a string\n",
        "\n",
        "string = input(\"Enter String : \")\n",
        "string1 = \"\"\n",
        "\n",
        "# Change case\n",
        "for i in string:\n",
        "    if(i.isupper()):\n",
        "        i = i.lower()\n",
        "    else:\n",
        "        i = i.upper()\n",
        "    string1 += i\n",
        "\n",
        "print(f\"{string} is changed to {string1}\")"
      ],
      "metadata": {
        "id": "GBNNONDMhYRK"
      },
      "execution_count": null,
      "outputs": []
    },
    {
      "cell_type": "code",
      "source": [
        "# PrepInsta (Operations on Strings) - https://prepinsta.com/python-program/count-the-number-of-vowels-in-a-string/\n",
        "# Python program to count the number of vowels in a string\n",
        "\n",
        "string = input(\"Enter String : \")\n",
        "count = 0\n",
        "\n",
        "# Counts number of vowels in the string\n",
        "for i in string:\n",
        "    if(i == 'a' or i == 'e' or i == 'i' or i == 'o' or \n",
        "    i == 'u' or i == 'A' or i == 'E' or i == 'I' or i == 'O' or i == 'U'):\n",
        "        count += 1\n",
        "\n",
        "print(f\"string has {count} vowels in it\")"
      ],
      "metadata": {
        "id": "lBN-ACzzkIcR"
      },
      "execution_count": null,
      "outputs": []
    },
    {
      "cell_type": "code",
      "source": [
        "# HackerRank (Basic Data Types) - https://www.hackerrank.com/challenges/list-comprehensions/problem\n",
        "# List Comprehensions - Print array of the elements that do not sum n = 3\n",
        "\n",
        "x = 1\n",
        "y = 1\n",
        "z = 2\n",
        "n = 3\n",
        "\n",
        "permutations = []\n",
        "sumNot3 = []\n",
        "\n",
        "# Generates permutations\n",
        "\n",
        "print(\"Following are the combinations : \\n\")\n",
        "for i in range(x+1):\n",
        "    for j in range(y+1):\n",
        "        for k in range(z+1):\n",
        "            permutations.append([i,j,k])\n",
        "            if(i + j + k != n):\n",
        "                sumNot3.append([i,j,k])\n",
        "            \n",
        "print(permutations)\n",
        "\n",
        "print(\"\\nArray of the elements that do not sum n = 3\\n\")\n",
        "print(sumNot3)"
      ],
      "metadata": {
        "id": "aV0hkUWZ_BZs"
      },
      "execution_count": null,
      "outputs": []
    },
    {
      "cell_type": "code",
      "source": [
        "# PrepInsta (Operations on String) - https://prepinsta.com/python-program/to-remove-the-vowels-from-a-string/\n",
        "# Python program to remove the vowels from a string\n",
        "\n",
        "string1 = input(\"Enter String : \")\n",
        "string2 = \"\"\n",
        "\n",
        "# Checks if character is a vowel and discards if it is\n",
        "for i in range(len(string1)):\n",
        "    v = string1[i]\n",
        "    if(v != \"a\" and v != \"e\" and v != \"i\" and v != \"o\" and v != \"u\" and v != \"A\" and v != \"E\" and v != \"I\" and v != \"O\" and v != \"U\"):\n",
        "        string2 += v\n",
        "        \n",
        "print(string2)"
      ],
      "metadata": {
        "id": "oBzxefNlC-OW"
      },
      "execution_count": null,
      "outputs": []
    },
    {
      "cell_type": "code",
      "source": [
        "# PrepInsta (Operations on String) - https://prepinsta.com/python-program/to-check-whether-a-string-is-a-palindrome-or-not/\n",
        "# Program to check whether a String is a Palindrome or not in Python\n",
        "\n",
        "string = input(\"Enter String : \")\n",
        "\n",
        "# Checks whether string is Palindrome or not\n",
        "if (string[::] == string[::-1]):\n",
        "    print(\"Yes, The String is Palindrome\")\n",
        "    print(f\"\\n{string[::]} = {string[::-1]}\")\n",
        "else:\n",
        "    print(\"No, String is no Palindrome\")\n",
        "    print(f\"\\n{string[::]} != {string[::-1]}\")"
      ],
      "metadata": {
        "id": "LEVXmKvcFiVb"
      },
      "execution_count": null,
      "outputs": []
    },
    {
      "cell_type": "code",
      "source": [
        "# PrepInsta (Operations on String) - https://prepinsta.com/python-program/reverse-a-string/\n",
        "# Program to Reverse a String in Python\n",
        "\n",
        "string = input(\"Enter String : \")\n",
        "\n",
        "# Reverses string\n",
        "reversed_string = string[::-1]\n",
        "\n",
        "print(f\"string = {string}\\nreversed string = {reversed_string}\")"
      ],
      "metadata": {
        "id": "ybe3vFPXG4dx"
      },
      "execution_count": null,
      "outputs": []
    }
  ]
}