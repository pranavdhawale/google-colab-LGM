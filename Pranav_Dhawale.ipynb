{
  "nbformat": 4,
  "nbformat_minor": 0,
  "metadata": {
    "colab": {
      "name": "Pranav_Dhawale",
      "provenance": [],
      "collapsed_sections": [],
      "authorship_tag": "ABX9TyPJrqtuuLAQ6F0eT7Hchb9i",
      "include_colab_link": true
    },
    "kernelspec": {
      "name": "python3",
      "display_name": "Python 3"
    },
    "language_info": {
      "name": "python"
    }
  },
  "cells": [
    {
      "cell_type": "markdown",
      "metadata": {
        "id": "view-in-github",
        "colab_type": "text"
      },
      "source": [
        "<a href=\"https://colab.research.google.com/github/pranavdhawale/google-colab-LGM/blob/master/Pranav_Dhawale.ipynb\" target=\"_parent\"><img src=\"https://colab.research.google.com/assets/colab-badge.svg\" alt=\"Open In Colab\"/></a>"
      ]
    },
    {
      "cell_type": "markdown",
      "source": [
        "Python Introduction<br>\n",
        "Python Feature<br>\n",
        "Python Applications<br>\n",
        "Python UseCases<br>\n",
        "Python IDEs<br>"
      ],
      "metadata": {
        "id": "p7J1PJmL1acR"
      }
    },
    {
      "cell_type": "code",
      "source": [
        "print(\"Hello World!\")"
      ],
      "metadata": {
        "id": "pmDe9aEx1nDC"
      },
      "execution_count": null,
      "outputs": []
    },
    {
      "cell_type": "code",
      "source": [
        "for i in range(10):\n",
        "  print(\"Pranav Dhawale\")"
      ],
      "metadata": {
        "id": "bR5oBi6d2R5w"
      },
      "execution_count": null,
      "outputs": []
    },
    {
      "cell_type": "code",
      "source": [
        "# Say \"Hello, World!\" With Python\n",
        "\n",
        "print(\"Hello, World!\")"
      ],
      "metadata": {
        "colab": {
          "base_uri": "https://localhost:8080/"
        },
        "id": "qHLfi23l_LAn",
        "outputId": "7c8c3ae0-0e82-4153-b6bc-72a6f2eedca9"
      },
      "execution_count": 5,
      "outputs": [
        {
          "output_type": "stream",
          "name": "stdout",
          "text": [
            "Hello, World!\n"
          ]
        }
      ]
    },
    {
      "cell_type": "code",
      "source": [
        "# Python If-Else\n",
        "\n",
        "n = int(input())\n",
        "    \n",
        "if n%2!=0:\n",
        "    print(\"Weird\")\n",
        "\n",
        "elif n%2==0:\n",
        "    if n >=2 and n <=5:\n",
        "        print(\"Not Weird\")\n",
        "    elif n >=6 and n <=20:\n",
        "        print(\"Weird\")\n",
        "    elif n > 20:\n",
        "        print(\"Not Weird\")"
      ],
      "metadata": {
        "id": "w0JxoogEB1le"
      },
      "execution_count": null,
      "outputs": []
    },
    {
      "cell_type": "code",
      "source": [
        "# Python Arithmetic Operators\n",
        "\n",
        "if __name__ == '__main__':\n",
        "    a = int(input())\n",
        "    b = int(input())\n",
        "    \n",
        "    print(a+b)\n",
        "    print(a-b)\n",
        "    print(a*b)"
      ],
      "metadata": {
        "id": "BSiOY2B7CCFV"
      },
      "execution_count": null,
      "outputs": []
    },
    {
      "cell_type": "code",
      "source": [
        "# Python Division\n",
        "\n",
        "if __name__ == '__main__':\n",
        "    a = int(input())\n",
        "    b = int(input())\n",
        "    \n",
        "    print(a//b)\n",
        "    print(a/b)"
      ],
      "metadata": {
        "id": "qFg3EMaWDC7m"
      },
      "execution_count": null,
      "outputs": []
    },
    {
      "cell_type": "code",
      "source": [
        "# Python Loops\n",
        "\n",
        "if __name__ == '__main__':\n",
        "    n = int(input())\n",
        "    for i in range(n):\n",
        "        print(i*i)"
      ],
      "metadata": {
        "id": "eFxNbAWjCryz"
      },
      "execution_count": null,
      "outputs": []
    },
    {
      "cell_type": "code",
      "source": [
        "# Determine whether it is a Leap Year or not\n",
        "\n",
        "def is_leap(year):\n",
        "    leap = False\n",
        "    \n",
        "    if year % 4 == 0:\n",
        "        if year % 100 != 0:\n",
        "            leap = True\n",
        "        elif year % 400 == 0:\n",
        "            leap = True\n",
        "    \n",
        "    return leap\n",
        "\n",
        "year = int(input())\n",
        "print(is_leap(year))"
      ],
      "metadata": {
        "id": "WHw56QG0MaDK"
      },
      "execution_count": null,
      "outputs": []
    },
    {
      "cell_type": "code",
      "source": [
        "# Print the list of integers from  through  as a string, without spaces\n",
        "\n",
        "if __name__ == '__main__':\n",
        "    n = int(input())\n",
        "    for i in range(1,n+1):\n",
        "        print(i, end=\"\")"
      ],
      "metadata": {
        "id": "qU95vR55ROhP"
      },
      "execution_count": null,
      "outputs": []
    }
  ]
}