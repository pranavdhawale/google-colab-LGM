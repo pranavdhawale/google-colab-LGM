{
  "nbformat": 4,
  "nbformat_minor": 0,
  "metadata": {
    "colab": {
      "name": "Pranav_Dhawale",
      "provenance": [],
      "collapsed_sections": [],
      "authorship_tag": "ABX9TyOpwTuteuKhSkQm9bXHup7G",
      "include_colab_link": true
    },
    "kernelspec": {
      "name": "python3",
      "display_name": "Python 3"
    },
    "language_info": {
      "name": "python"
    }
  },
  "cells": [
    {
      "cell_type": "markdown",
      "metadata": {
        "id": "view-in-github",
        "colab_type": "text"
      },
      "source": [
        "<a href=\"https://colab.research.google.com/github/pranavdhawale/google-colab-LGM/blob/master/Pranav_Dhawale.ipynb\" target=\"_parent\"><img src=\"https://colab.research.google.com/assets/colab-badge.svg\" alt=\"Open In Colab\"/></a>"
      ]
    },
    {
      "cell_type": "markdown",
      "source": [
        "Python Introduction\n",
        "Python Feature\n",
        "Python Applications\n",
        "Python UseCases\n",
        "Python IDEs"
      ],
      "metadata": {
        "id": "p7J1PJmL1acR"
      }
    },
    {
      "cell_type": "code",
      "source": [
        "print(\"Hello World!\")"
      ],
      "metadata": {
        "colab": {
          "base_uri": "https://localhost:8080/"
        },
        "id": "pmDe9aEx1nDC",
        "outputId": "4b0cc1ed-fe56-46d4-ec4b-c364876b375a"
      },
      "execution_count": null,
      "outputs": [
        {
          "output_type": "stream",
          "name": "stdout",
          "text": [
            "Hello World!\n"
          ]
        }
      ]
    },
    {
      "cell_type": "code",
      "source": [
        "for i in range(10):\n",
        "  print(\"Pranav Dhawale\")"
      ],
      "metadata": {
        "id": "bR5oBi6d2R5w"
      },
      "execution_count": null,
      "outputs": []
    }
  ]
}