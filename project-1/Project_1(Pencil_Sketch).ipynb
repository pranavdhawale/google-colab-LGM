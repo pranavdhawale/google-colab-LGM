{
  "nbformat": 4,
  "nbformat_minor": 0,
  "metadata": {
    "colab": {
      "provenance": [],
      "authorship_tag": "ABX9TyOllFmdsL+C5XZgKuTs/+m3",
      "include_colab_link": true
    },
    "kernelspec": {
      "name": "python3",
      "display_name": "Python 3"
    },
    "language_info": {
      "name": "python"
    }
  },
  "cells": [
    {
      "cell_type": "markdown",
      "metadata": {
        "id": "view-in-github",
        "colab_type": "text"
      },
      "source": [
        "<a href=\"https://colab.research.google.com/github/pranavdhawale/google-colab-LGM/blob/master/Project_1(Pencil_Sketch).ipynb\" target=\"_parent\"><img src=\"https://colab.research.google.com/assets/colab-badge.svg\" alt=\"Open In Colab\"/></a>"
      ]
    },
    {
      "cell_type": "markdown",
      "source": [
        "# Project 1 - Pencil Sketch\n",
        "\n",
        "Github Repo Link - \n",
        "\n",
        "## Libraries Used: \n",
        "- matplotlib\n",
        "- opencv\n"
      ],
      "metadata": {
        "id": "J42AYniaE59W"
      }
    },
    {
      "cell_type": "code",
      "execution_count": null,
      "metadata": {
        "id": "SWr65eI4Ey2S"
      },
      "outputs": [],
      "source": [
        "import cv2\n",
        "import matplotlib as plt"
      ]
    }
  ]
}