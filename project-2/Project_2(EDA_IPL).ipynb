{
 "cells": [
  {
   "cell_type": "markdown",
   "metadata": {},
   "source": [
    "# Project 1 - Pencil Sketch\n",
    "\n",
    "Github Repo Link - https://github.com/pranavdhawale/google-colab-LGM/blob/master/project-1/Project_1(Pencil_Sketch).ipynb\n",
    "\n",
    "## Libraries Used: \n",
    "- Matplotlib\n",
    "- Numpy\n",
    "- Pandas"
   ]
  }
 ],
 "metadata": {
  "kernelspec": {
   "display_name": "Python 3.10.6 64-bit",
   "language": "python",
   "name": "python3"
  },
  "language_info": {
   "name": "python",
   "version": "3.10.6"
  },
  "orig_nbformat": 4,
  "vscode": {
   "interpreter": {
    "hash": "e7370f93d1d0cde622a1f8e1c04877d8463912d04d973331ad4851f04de6915a"
   }
  }
 },
 "nbformat": 4,
 "nbformat_minor": 2
}
